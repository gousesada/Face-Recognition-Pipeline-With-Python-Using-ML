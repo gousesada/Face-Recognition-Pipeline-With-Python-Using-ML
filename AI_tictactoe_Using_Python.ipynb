{
  "nbformat": 4,
  "nbformat_minor": 0,
  "metadata": {
    "colab": {
      "provenance": [],
      "authorship_tag": "ABX9TyPHviiVMwlTJzbiuu/wJncG",
      "include_colab_link": true
    },
    "kernelspec": {
      "name": "python3",
      "display_name": "Python 3"
    },
    "language_info": {
      "name": "python"
    }
  },
  "cells": [
    {
      "cell_type": "markdown",
      "metadata": {
        "id": "view-in-github",
        "colab_type": "text"
      },
      "source": [
        "<a href=\"https://colab.research.google.com/github/gousesada/Face-Recognition-Pipeline-With-Python-Using-ML/blob/main/AI_tictactoe_Using_Python.ipynb\" target=\"_parent\"><img src=\"https://colab.research.google.com/assets/colab-badge.svg\" alt=\"Open In Colab\"/></a>"
      ]
    },
    {
      "cell_type": "code",
      "execution_count": 1,
      "metadata": {
        "id": "fGVs69M2zuLJ"
      },
      "outputs": [],
      "source": [
        "def User1Turn(board):\n",
        "  pos = int(input(\"Enter X's position:\"))\n",
        "  if(board[pos-1]!=0):\n",
        "    print(\"Wrong Move..!!!\")\n",
        "    exit(0)\n",
        "  board[pos-1]=-1\n",
        "\n",
        "def User2Turn(board):\n",
        "  pos = int(input(\"Enter O's position:\"))\n",
        "  if(board[pos-1]!=0):\n",
        "    print(\"Wrong Move..!!!\")\n",
        "    exit(0)\n",
        "  board[pos-1]=1\n",
        "\n",
        "def ConstBoard(board):\n",
        "  print(\"Current state of the Board: \\n\\n\")\n",
        "  for i in range(0,9):\n",
        "    if((i>0) and (i%3==0)):\n",
        "      print(\"\\n\")\n",
        "    if(board[i]==0):\n",
        "      print(\"_ \", end=\" \")\n",
        "    if(board[i]==1):\n",
        "      print(\"X \", end=\" \")\n",
        "    if(board[i]==-1):\n",
        "      print(\"O \", end=\" \")\n",
        "  print(\"\\n\\n\")\n",
        "\n",
        "\n",
        "\n",
        "def analyzeboard(board):\n",
        "  cb = [[0,1,2],[3,4,5],[6,7,8],[0,3,6],[1,4,7],[2,5,8],[0,4,8],[2,4,6]]\n",
        "  for i in range(0,8):\n",
        "    if ((board[cb[i][0]]!=0) and (board[cb[i][0]]==board[cb[i][1]]) and (board[cb[i][1]]==board[cb[i][2]])):\n",
        "      return board[cb[i][0]];\n",
        "\n",
        "  return 0;\n",
        "\n",
        "def minmax(board, player):\n",
        "  x = analyzeboard(board)\n",
        "  if(x!=0):\n",
        "    return (x*player)\n",
        "  pos = -1\n",
        "  value =-2\n",
        "  for i in range(0,9):\n",
        "    if(board[i]==0):\n",
        "      board[i]=player\n",
        "      score=-minmax(board,player-1)\n",
        "      board[i]=0\n",
        "      if(score>value):\n",
        "        value=score\n",
        "        pos=i\n",
        "  if(pos==-1):\n",
        "    return 0\n",
        "  return value\n",
        "def CompTurn(board):\n",
        "  pos = -1\n",
        "  value =-2\n",
        "  for i in range(0,9):\n",
        "    if(board[i]==0):\n",
        "      board[i]=1\n",
        "      score=-minmax(board,-1)\n",
        "      board[i]=0\n",
        "      if(score>value):\n",
        "        value=score\n",
        "        pos=i\n",
        "  board[pos]=1\n",
        "def main():\n",
        "  choice = input(\"Enter 1 for Single player or Enter 2 for multi-player\")\n",
        "  choice = int(choice)\n",
        "  board = [0,0,0,0,0,0,0,0,0]\n",
        "  if (choice==1):\n",
        "    #code to play against AI\n",
        "    print(\"Computer: 0 Vs. You: X\")\n",
        "    player = int(input(\"Enter to Play (1st) or (2nd):\"))\n",
        "    for i in range(0,9):\n",
        "      if(analyzeboard(board)!=0):\n",
        "        break\n",
        "      if((i+player)%2==0):\n",
        "        CompTurn(board)\n",
        "      else:\n",
        "        ConstBoard(board)\n",
        "        User1Turn(board)\n",
        "\n",
        "  else:\n",
        "    #code for multiple player\n",
        "    for i in range(0,9):\n",
        "      if(analyzeboard(board)!=0):\n",
        "        break\n",
        "      if(i%2==0):\n",
        "        ConstBoard(board)\n",
        "        User1Turn(board)\n",
        "      else:\n",
        "        ConstBoard(board)\n",
        "        User2Turn(board)\n",
        "\n",
        "  X = analyzeboard(board)\n",
        "  if(X==0):\n",
        "    ConstBoard(board)\n",
        "    print(\"Draw!!!\")\n",
        "  if(X==-1):\n",
        "    ConstBoard(board)\n",
        "    print(\"Player O has Won!!!\")\n",
        "  if(X==1):\n",
        "    ConstBoard(board)\n",
        "    print(\"Player X has Won!!!\")"
      ]
    },
    {
      "cell_type": "code",
      "source": [
        "def ConstBoard(board):\n",
        "  print(\"Current state of the Board: \\n\\n\")\n",
        "  for i in range(0,9):\n",
        "    if((i>0) and (i%3==0)):\n",
        "      print(\"\\n\")\n",
        "    if(board[i]==0):\n",
        "      print(\"_ \", end=\" \")\n",
        "    if(board[i]==1):\n",
        "      print(\"X \", end=\" \")\n",
        "    if(board[i]==-1):\n",
        "      print(\"O \", end=\" \")\n",
        "  print(\"\\n\\n\")"
      ],
      "metadata": {
        "id": "ET99c4Y04XLb"
      },
      "execution_count": 2,
      "outputs": []
    },
    {
      "cell_type": "code",
      "source": [
        "ConstBoard([0,0,1,1,-1,1,-1,-1,-1])"
      ],
      "metadata": {
        "colab": {
          "base_uri": "https://localhost:8080/"
        },
        "id": "6A-_dpIz5DU7",
        "outputId": "d5a7fff9-4c89-4da8-a2f4-30cd4341745d"
      },
      "execution_count": 3,
      "outputs": [
        {
          "output_type": "stream",
          "name": "stdout",
          "text": [
            "Current state of the Board: \n",
            "\n",
            "\n",
            "_  _  X  \n",
            "\n",
            "X  O  X  \n",
            "\n",
            "O  O  O  \n",
            "\n",
            "\n"
          ]
        }
      ]
    },
    {
      "cell_type": "code",
      "source": [
        "ConstBoard([0,0,1,1,-1,1,-1,-1,1])"
      ],
      "metadata": {
        "colab": {
          "base_uri": "https://localhost:8080/"
        },
        "id": "mJ5p2xsS5N1M",
        "outputId": "f5591107-e93c-4068-a51f-edc794756ef2"
      },
      "execution_count": 4,
      "outputs": [
        {
          "output_type": "stream",
          "name": "stdout",
          "text": [
            "Current state of the Board: \n",
            "\n",
            "\n",
            "_  _  X  \n",
            "\n",
            "X  O  X  \n",
            "\n",
            "O  O  X  \n",
            "\n",
            "\n"
          ]
        }
      ]
    },
    {
      "cell_type": "code",
      "source": [
        "main()\n"
      ],
      "metadata": {
        "id": "xU-N_R1c7tNb",
        "colab": {
          "base_uri": "https://localhost:8080/"
        },
        "outputId": "3f05259b-a676-4abd-84ff-07866d646282"
      },
      "execution_count": 5,
      "outputs": [
        {
          "output_type": "stream",
          "name": "stdout",
          "text": [
            "Enter 1 for Single player or Enter 2 for multi-player1\n",
            "Computer: 0 Vs. You: X\n",
            "Enter to Play (1st) or (2nd):1\n",
            "Current state of the Board: \n",
            "\n",
            "\n",
            "_  _  _  \n",
            "\n",
            "_  _  _  \n",
            "\n",
            "_  _  _  \n",
            "\n",
            "\n",
            "Enter X's position:0\n",
            "Current state of the Board: \n",
            "\n",
            "\n",
            "X  _  _  \n",
            "\n",
            "_  _  _  \n",
            "\n",
            "_  _  O  \n",
            "\n",
            "\n",
            "Enter X's position:2\n",
            "Current state of the Board: \n",
            "\n",
            "\n",
            "X  O  X  \n",
            "\n",
            "_  _  _  \n",
            "\n",
            "_  _  O  \n",
            "\n",
            "\n",
            "Enter X's position:6\n",
            "Current state of the Board: \n",
            "\n",
            "\n",
            "X  O  X  \n",
            "\n",
            "X  _  O  \n",
            "\n",
            "_  _  O  \n",
            "\n",
            "\n",
            "Enter X's position:7\n",
            "Current state of the Board: \n",
            "\n",
            "\n",
            "X  O  X  \n",
            "\n",
            "X  X  O  \n",
            "\n",
            "O  _  O  \n",
            "\n",
            "\n",
            "Enter X's position:5\n",
            "Wrong Move..!!!\n",
            "Current state of the Board: \n",
            "\n",
            "\n",
            "X  O  X  \n",
            "\n",
            "X  O  O  \n",
            "\n",
            "O  _  O  \n",
            "\n",
            "\n",
            "Draw!!!\n"
          ]
        }
      ]
    },
    {
      "cell_type": "code",
      "source": [
        "main()"
      ],
      "metadata": {
        "colab": {
          "base_uri": "https://localhost:8080/"
        },
        "id": "HpC8V7eAG5kW",
        "outputId": "cbc03d7b-ff53-404c-8a08-3d934715fd31"
      },
      "execution_count": 5,
      "outputs": [
        {
          "output_type": "stream",
          "name": "stdout",
          "text": [
            "Enter 1 for Single player or Enter 2 for multi-player2\n",
            "Current state of the Board: \n",
            "\n",
            "\n",
            "_  _  _  \n",
            "\n",
            "_  _  _  \n",
            "\n",
            "_  _  _  \n",
            "\n",
            "\n",
            "Enter X's position:1\n",
            "Current state of the Board: \n",
            "\n",
            "\n",
            "O  _  _  \n",
            "\n",
            "_  _  _  \n",
            "\n",
            "_  _  _  \n",
            "\n",
            "\n",
            "Enter O's position:2\n",
            "Current state of the Board: \n",
            "\n",
            "\n",
            "O  X  _  \n",
            "\n",
            "_  _  _  \n",
            "\n",
            "_  _  _  \n",
            "\n",
            "\n",
            "Enter X's position:6\n",
            "Current state of the Board: \n",
            "\n",
            "\n",
            "O  X  _  \n",
            "\n",
            "_  _  O  \n",
            "\n",
            "_  _  _  \n",
            "\n",
            "\n",
            "Enter O's position:5\n",
            "Current state of the Board: \n",
            "\n",
            "\n",
            "O  X  _  \n",
            "\n",
            "_  X  O  \n",
            "\n",
            "_  _  _  \n",
            "\n",
            "\n",
            "Enter X's position:8\n",
            "Current state of the Board: \n",
            "\n",
            "\n",
            "O  X  _  \n",
            "\n",
            "_  X  O  \n",
            "\n",
            "_  O  _  \n",
            "\n",
            "\n",
            "Enter O's position:7\n",
            "Current state of the Board: \n",
            "\n",
            "\n",
            "O  X  _  \n",
            "\n",
            "_  X  O  \n",
            "\n",
            "X  O  _  \n",
            "\n",
            "\n",
            "Enter X's position:9\n",
            "Current state of the Board: \n",
            "\n",
            "\n",
            "O  X  _  \n",
            "\n",
            "_  X  O  \n",
            "\n",
            "X  O  O  \n",
            "\n",
            "\n",
            "Enter O's position:3\n",
            "Current state of the Board: \n",
            "\n",
            "\n",
            "O  X  X  \n",
            "\n",
            "_  X  O  \n",
            "\n",
            "X  O  O  \n",
            "\n",
            "\n",
            "Player X has Won!!!\n"
          ]
        }
      ]
    },
    {
      "cell_type": "code",
      "source": [],
      "metadata": {
        "id": "qc-RhNjBcGnW"
      },
      "execution_count": null,
      "outputs": []
    },
    {
      "cell_type": "code",
      "source": [],
      "metadata": {
        "id": "1gDJUxx3cHjq"
      },
      "execution_count": null,
      "outputs": []
    },
    {
      "cell_type": "code",
      "source": [],
      "metadata": {
        "id": "gBCazJiVcIbd"
      },
      "execution_count": null,
      "outputs": []
    },
    {
      "cell_type": "code",
      "source": [],
      "metadata": {
        "id": "AbgFPbr6LWwS"
      },
      "execution_count": null,
      "outputs": []
    }
  ]
}